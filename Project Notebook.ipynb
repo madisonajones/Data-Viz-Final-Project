{
 "cells": [
  {
   "cell_type": "code",
   "execution_count": 1,
   "metadata": {},
   "outputs": [],
   "source": [
    "import warnings\n",
    "warnings.simplefilter(action='ignore', category=FutureWarning)\n",
    "from modules.data_cleaning import combine_data, cleaning_data, making_covid_column, create_borough_column\n",
    "import pandas as pd\n",
    "school_data_chunk1 = pd.read_csv('data/school_data_chunk1.csv', na_values = 's')\n",
    "school_data_chunk2 = pd.read_csv('data/school_data_chunk2.csv', na_values = 's')\n",
    "school_data_combined =combine_data(school_data_chunk1,school_data_chunk2)\n",
    "school_data = cleaning_data(school_data_combined)\n",
    "school_data[\"Year\"] = pd.Categorical(school_data[\"Year\"])\n",
    "school_data[\"COVID\"] = pd.Categorical(school_data['Year'].apply(making_covid_column))\n",
    "school_data['school_dist'] = school_data['dbn'].astype(str).str[:2]\n",
    "school_data['borough'] = pd.Categorical(school_data['school_dist'].apply(create_borough_column))\n"
   ]
  },
  {
   "cell_type": "markdown",
   "metadata": {},
   "source": [
    "\n",
    "\n",
    "# **<span style='font-family:\"Times New Roman\"'> <span style='color:black'> English Language Arts Scores and Literacy Levels </span>**\n",
    "### **<span style='font-family:\"Times New Roman\"'> <span style='color:black'> Visualizing the Effects of the COVID-19 Pandemic on English Education </span>**"
   ]
  },
  {
   "cell_type": "markdown",
   "metadata": {},
   "source": [
    "### **<span style='font-family:\"Times New Roman\"'> Introduction </span>**"
   ]
  },
  {
   "cell_type": "markdown",
   "metadata": {},
   "source": [
    "<span style='font-family:\"Times New Roman\"'> The COVID-19 pandemic created obstacles in children's learning and development. Lockdowns, online schooling, and limited socialization created increased levels of stress and anxiety in children. As for schools, COVID-19 practices have continued into the present, with hybrid learning options and lenient grading. This project aims to analyze English Language Arts (ELA) scores of children, from third grade to eighth grade. The ultimate mission of this research is to compare reading levels pre-COVID and post-COVID. The data being used is based in New York City, across all 32 school districts amongst the five boroughs from 2013 to 2023. The data has been modified to only include only the years 2018, 2019, and 2022 due to changes in standardized tests throughout the decade, making them incomparable. ELA scores are split into four levels based on state administered testing. Level 1 indicates a student has not met learning expectations and Level 4 indicates that a student has exceeded expectations, with distinction.  </span>\n",
    "\n",
    "<span style='font-family:\"Times New Roman\"'> I hope to gain insights of learning loss amongst grades, school districts, and boroughs of New York City. Young learners have been neglected a fair education, especially those who live in low-income areas and are part of marginalized communities throughout the city. To explore this data, I will be utilizing various representations of multivariate data, primarily using bar graphs and interactive widgets, primarily to assess the levels and scores of grades per year. I will also be applying geographic visualizations to assess the distribution of Level 1 readers by school district to gain insights on the demographic makeup versus percentage of students who do not meet expectations. </span>\n",
    "\n"
   ]
  },
  {
   "cell_type": "code",
   "execution_count": 6,
   "metadata": {},
   "outputs": [
    {
     "data": {},
     "metadata": {},
     "output_type": "display_data"
    },
    {
     "data": {
      "application/vnd.holoviews_exec.v0+json": "",
      "text/html": [
       "<div id='60147ed4-ce03-4cca-832e-0eb9d0c3b5d7'>\n",
       "  <div id=\"d4ce1f99-4305-46da-8d62-ddc21ca1bdfc\" data-root-id=\"60147ed4-ce03-4cca-832e-0eb9d0c3b5d7\" style=\"display: contents;\"></div>\n",
       "</div>\n",
       "<script type=\"application/javascript\">(function(root) {\n",
       "  var docs_json = {\"1bc91929-518e-494c-9eff-d04d4409b2db\":{\"version\":\"3.4.2\",\"title\":\"Bokeh Application\",\"roots\":[{\"type\":\"object\",\"name\":\"Row\",\"id\":\"60147ed4-ce03-4cca-832e-0eb9d0c3b5d7\",\"attributes\":{\"name\":\"Row02684\",\"tags\":[\"embedded\"],\"stylesheets\":[\"\\n:host(.pn-loading):before, .pn-loading:before {\\n  background-color: #c3c3c3;\\n  mask-size: auto calc(min(50%, 400px));\\n  -webkit-mask-size: auto calc(min(50%, 400px));\\n}\",{\"type\":\"object\",\"name\":\"ImportedStyleSheet\",\"id\":\"19b8ce1d-a99e-444e-be0f-3d60757b1ff9\",\"attributes\":{\"url\":\"https://cdn.holoviz.org/panel/1.4.5/dist/css/loading.css\"}},{\"type\":\"object\",\"name\":\"ImportedStyleSheet\",\"id\":\"a82cbd86-4484-4461-afba-77dbdfda1cf0\",\"attributes\":{\"url\":\"https://cdn.holoviz.org/panel/1.4.5/dist/css/listpanel.css\"}},{\"type\":\"object\",\"name\":\"ImportedStyleSheet\",\"id\":\"e2bf2983-b860-427f-96fe-f5547ac3c048\",\"attributes\":{\"url\":\"https://cdn.holoviz.org/panel/1.4.5/dist/bundled/theme/default.css\"}},{\"type\":\"object\",\"name\":\"ImportedStyleSheet\",\"id\":\"dd711301-64c2-42a0-acf4-699f7f1dc989\",\"attributes\":{\"url\":\"https://cdn.holoviz.org/panel/1.4.5/dist/bundled/theme/native.css\"}}],\"min_width\":700,\"margin\":0,\"sizing_mode\":\"stretch_width\",\"align\":\"start\",\"children\":[{\"type\":\"object\",\"name\":\"Spacer\",\"id\":\"55acadfe-b175-4068-89b9-11e0ef6396bf\",\"attributes\":{\"name\":\"HSpacer02691\",\"stylesheets\":[\"\\n:host(.pn-loading):before, .pn-loading:before {\\n  background-color: #c3c3c3;\\n  mask-size: auto calc(min(50%, 400px));\\n  -webkit-mask-size: auto calc(min(50%, 400px));\\n}\",{\"id\":\"19b8ce1d-a99e-444e-be0f-3d60757b1ff9\"},{\"id\":\"e2bf2983-b860-427f-96fe-f5547ac3c048\"},{\"id\":\"dd711301-64c2-42a0-acf4-699f7f1dc989\"}],\"margin\":0,\"sizing_mode\":\"stretch_width\",\"align\":\"start\"}},{\"type\":\"object\",\"name\":\"Figure\",\"id\":\"02c8b4b0-3307-448a-a32d-f2fc7eb4a125\",\"attributes\":{\"width\":700,\"height\":300,\"margin\":[5,10],\"sizing_mode\":\"fixed\",\"align\":\"start\",\"x_range\":{\"type\":\"object\",\"name\":\"Range1d\",\"id\":\"3c797d5b-89df-4921-801e-be9f34e6e867\",\"attributes\":{\"tags\":[[[\"Year\",null]],[]],\"start\":2017.8285714285714,\"end\":2022.1714285714286,\"reset_start\":2017.8285714285714,\"reset_end\":2022.1714285714286}},\"y_range\":{\"type\":\"object\",\"name\":\"Range1d\",\"id\":\"7300f618-d889-43fe-a7ab-baa535fedaae\",\"attributes\":{\"tags\":[[[\"mean_scale_score\",null]],{\"type\":\"map\",\"entries\":[[\"invert_yaxis\",false],[\"autorange\",false]]}],\"start\":599.496562467933,\"end\":600.5880793276691,\"reset_start\":599.496562467933,\"reset_end\":600.5880793276691}},\"x_scale\":{\"type\":\"object\",\"name\":\"LinearScale\",\"id\":\"9f6b9095-e14f-49bc-9355-92aed57d497d\"},\"y_scale\":{\"type\":\"object\",\"name\":\"LinearScale\",\"id\":\"7eb2732e-f70a-4c84-8a88-18c8e119a637\"},\"title\":{\"type\":\"object\",\"name\":\"Title\",\"id\":\"56a1a5e8-10ad-450e-84c0-480d230c0067\",\"attributes\":{\"text\":\"Average Mean Scale Score, per Year\",\"text_color\":\"black\",\"text_font_size\":\"12pt\"}},\"renderers\":[{\"type\":\"object\",\"name\":\"GlyphRenderer\",\"id\":\"c9399c3d-a418-4933-bb3f-6d8d9aa565ff\",\"attributes\":{\"name\":\"mean_scale_score\",\"data_source\":{\"type\":\"object\",\"name\":\"ColumnDataSource\",\"id\":\"339903be-dd0e-4247-994d-801205b60302\",\"attributes\":{\"selected\":{\"type\":\"object\",\"name\":\"Selection\",\"id\":\"80030cd1-01b9-4e69-a418-4a4ec27eff96\",\"attributes\":{\"indices\":[],\"line_indices\":[]}},\"selection_policy\":{\"type\":\"object\",\"name\":\"UnionRenderers\",\"id\":\"612fbbcf-8bf6-45d4-8b29-1b7b68043e40\"},\"data\":{\"type\":\"map\",\"entries\":[[\"Year\",[2018,2019,2022]],[\"mean_scale_score\",{\"type\":\"ndarray\",\"array\":{\"type\":\"bytes\",\"data\":\"8dPVGfrDgkDyq9c+s7yCQNsBeMymv4JA\"},\"shape\":[3],\"dtype\":\"float64\",\"order\":\"little\"}]]}}},\"view\":{\"type\":\"object\",\"name\":\"CDSView\",\"id\":\"f84e9f96-04a9-4eda-8d89-19784fc5636d\",\"attributes\":{\"filter\":{\"type\":\"object\",\"name\":\"AllIndices\",\"id\":\"eb3b0738-c353-4d91-b366-9c551ae8bc8f\"}}},\"glyph\":{\"type\":\"object\",\"name\":\"Scatter\",\"id\":\"c4c2ce4f-50a7-4316-9e27-1268617a7379\",\"attributes\":{\"tags\":[\"apply_ranges\"],\"x\":{\"type\":\"field\",\"field\":\"Year\"},\"y\":{\"type\":\"field\",\"field\":\"mean_scale_score\"},\"size\":{\"type\":\"value\",\"value\":5.477225575051661},\"line_color\":{\"type\":\"value\",\"value\":\"teal\"},\"fill_color\":{\"type\":\"value\",\"value\":\"teal\"},\"hatch_color\":{\"type\":\"value\",\"value\":\"teal\"}}},\"selection_glyph\":{\"type\":\"object\",\"name\":\"Scatter\",\"id\":\"6e39c813-b9ec-461a-90d5-8d76b5e4c29c\",\"attributes\":{\"tags\":[\"apply_ranges\"],\"x\":{\"type\":\"field\",\"field\":\"Year\"},\"y\":{\"type\":\"field\",\"field\":\"mean_scale_score\"},\"size\":{\"type\":\"value\",\"value\":5.477225575051661},\"angle\":{\"type\":\"value\",\"value\":0.0},\"line_color\":{\"type\":\"value\",\"value\":\"teal\"},\"line_alpha\":{\"type\":\"value\",\"value\":1.0},\"line_width\":{\"type\":\"value\",\"value\":1},\"line_join\":{\"type\":\"value\",\"value\":\"bevel\"},\"line_cap\":{\"type\":\"value\",\"value\":\"butt\"},\"line_dash\":{\"type\":\"value\",\"value\":[]},\"line_dash_offset\":{\"type\":\"value\",\"value\":0},\"fill_color\":{\"type\":\"value\",\"value\":\"teal\"},\"fill_alpha\":{\"type\":\"value\",\"value\":1.0},\"hatch_color\":{\"type\":\"value\",\"value\":\"teal\"},\"hatch_alpha\":{\"type\":\"value\",\"value\":1.0},\"hatch_scale\":{\"type\":\"value\",\"value\":12.0},\"hatch_pattern\":{\"type\":\"value\",\"value\":null},\"hatch_weight\":{\"type\":\"value\",\"value\":1.0},\"marker\":{\"type\":\"value\",\"value\":\"circle\"}}},\"nonselection_glyph\":{\"type\":\"object\",\"name\":\"Scatter\",\"id\":\"faa61d5c-9247-464b-b20f-e9b42db90572\",\"attributes\":{\"tags\":[\"apply_ranges\"],\"x\":{\"type\":\"field\",\"field\":\"Year\"},\"y\":{\"type\":\"field\",\"field\":\"mean_scale_score\"},\"size\":{\"type\":\"value\",\"value\":5.477225575051661},\"line_color\":{\"type\":\"value\",\"value\":\"teal\"},\"line_alpha\":{\"type\":\"value\",\"value\":0.1},\"fill_color\":{\"type\":\"value\",\"value\":\"teal\"},\"fill_alpha\":{\"type\":\"value\",\"value\":0.1},\"hatch_color\":{\"type\":\"value\",\"value\":\"teal\"},\"hatch_alpha\":{\"type\":\"value\",\"value\":0.1}}},\"muted_glyph\":{\"type\":\"object\",\"name\":\"Scatter\",\"id\":\"237ccc4b-5fb9-4497-8d43-4e16a00ea4f0\",\"attributes\":{\"tags\":[\"apply_ranges\"],\"x\":{\"type\":\"field\",\"field\":\"Year\"},\"y\":{\"type\":\"field\",\"field\":\"mean_scale_score\"},\"size\":{\"type\":\"value\",\"value\":5.477225575051661},\"line_color\":{\"type\":\"value\",\"value\":\"teal\"},\"line_alpha\":{\"type\":\"value\",\"value\":0.2},\"fill_color\":{\"type\":\"value\",\"value\":\"teal\"},\"fill_alpha\":{\"type\":\"value\",\"value\":0.2},\"hatch_color\":{\"type\":\"value\",\"value\":\"teal\"},\"hatch_alpha\":{\"type\":\"value\",\"value\":0.2}}}}},{\"type\":\"object\",\"name\":\"GlyphRenderer\",\"id\":\"ba6a8d20-ab8a-419d-93ea-50a0f776435d\",\"attributes\":{\"name\":\"mean_scale_score\",\"data_source\":{\"type\":\"object\",\"name\":\"ColumnDataSource\",\"id\":\"d9bf23c1-bcda-45df-a2c7-ba88dd970271\",\"attributes\":{\"selected\":{\"type\":\"object\",\"name\":\"Selection\",\"id\":\"7dc68723-db32-48b2-a6a9-f66b774cb5e1\",\"attributes\":{\"indices\":[],\"line_indices\":[]}},\"selection_policy\":{\"type\":\"object\",\"name\":\"UnionRenderers\",\"id\":\"3e79597e-fcd4-4c97-8de8-ecf107cc9045\"},\"data\":{\"type\":\"map\",\"entries\":[[\"Year\",[2018,2019,2022]],[\"mean_scale_score\",{\"type\":\"ndarray\",\"array\":{\"type\":\"bytes\",\"data\":\"8dPVGfrDgkDyq9c+s7yCQNsBeMymv4JA\"},\"shape\":[3],\"dtype\":\"float64\",\"order\":\"little\"}]]}}},\"view\":{\"type\":\"object\",\"name\":\"CDSView\",\"id\":\"ce674085-f425-4bca-b8fb-7cc5106a2c5d\",\"attributes\":{\"filter\":{\"type\":\"object\",\"name\":\"AllIndices\",\"id\":\"307f2a0d-8c04-4655-95cf-f429c2f0b686\"}}},\"glyph\":{\"type\":\"object\",\"name\":\"Line\",\"id\":\"2bc54902-1415-4cce-829e-3828f3d3a629\",\"attributes\":{\"tags\":[\"apply_ranges\"],\"x\":{\"type\":\"field\",\"field\":\"Year\"},\"y\":{\"type\":\"field\",\"field\":\"mean_scale_score\"},\"line_color\":\"teal\",\"line_width\":2}},\"selection_glyph\":{\"type\":\"object\",\"name\":\"Line\",\"id\":\"d2208d6c-d958-4dd7-969b-65275829e633\",\"attributes\":{\"tags\":[\"apply_ranges\"],\"x\":{\"type\":\"field\",\"field\":\"Year\"},\"y\":{\"type\":\"field\",\"field\":\"mean_scale_score\"},\"line_color\":\"teal\",\"line_width\":2}},\"nonselection_glyph\":{\"type\":\"object\",\"name\":\"Line\",\"id\":\"fbf2dfd9-bd35-43b0-aa0a-bddb888dc2e2\",\"attributes\":{\"tags\":[\"apply_ranges\"],\"x\":{\"type\":\"field\",\"field\":\"Year\"},\"y\":{\"type\":\"field\",\"field\":\"mean_scale_score\"},\"line_color\":\"teal\",\"line_alpha\":0.1,\"line_width\":2}},\"muted_glyph\":{\"type\":\"object\",\"name\":\"Line\",\"id\":\"9bf22ede-0b1b-422c-b59d-30ca53224492\",\"attributes\":{\"tags\":[\"apply_ranges\"],\"x\":{\"type\":\"field\",\"field\":\"Year\"},\"y\":{\"type\":\"field\",\"field\":\"mean_scale_score\"},\"line_color\":\"teal\",\"line_alpha\":0.2,\"line_width\":2}}}}],\"toolbar\":{\"type\":\"object\",\"name\":\"Toolbar\",\"id\":\"ef19b702-7ec5-4771-aab1-1bf2f3809da6\",\"attributes\":{\"tools\":[{\"type\":\"object\",\"name\":\"WheelZoomTool\",\"id\":\"e9fb8937-553e-40cf-8da3-6ba1445d6329\",\"attributes\":{\"tags\":[\"hv_created\"],\"renderers\":\"auto\",\"zoom_together\":\"none\"}},{\"type\":\"object\",\"name\":\"HoverTool\",\"id\":\"5aece366-dd2d-4caf-a02c-eb03b7b84e70\",\"attributes\":{\"tags\":[\"hv_created\"],\"renderers\":[{\"id\":\"c9399c3d-a418-4933-bb3f-6d8d9aa565ff\"},{\"id\":\"ba6a8d20-ab8a-419d-93ea-50a0f776435d\"}],\"tooltips\":[[\"Year\",\"@{Year}\"],[\"mean_scale_score\",\"@{mean_scale_score}\"]]}},{\"type\":\"object\",\"name\":\"SaveTool\",\"id\":\"3a4b867c-e6c2-4724-8176-2d1042527005\"},{\"type\":\"object\",\"name\":\"PanTool\",\"id\":\"bb163707-b09d-45b8-b3b6-ea76f5a057f7\"},{\"type\":\"object\",\"name\":\"BoxZoomTool\",\"id\":\"fd0b6679-2a87-40a7-a683-314d6e01d2aa\",\"attributes\":{\"overlay\":{\"type\":\"object\",\"name\":\"BoxAnnotation\",\"id\":\"76953874-b640-4191-9c4f-d96952299352\",\"attributes\":{\"syncable\":false,\"level\":\"overlay\",\"visible\":false,\"left\":{\"type\":\"number\",\"value\":\"nan\"},\"right\":{\"type\":\"number\",\"value\":\"nan\"},\"top\":{\"type\":\"number\",\"value\":\"nan\"},\"bottom\":{\"type\":\"number\",\"value\":\"nan\"},\"left_units\":\"canvas\",\"right_units\":\"canvas\",\"top_units\":\"canvas\",\"bottom_units\":\"canvas\",\"line_color\":\"black\",\"line_alpha\":1.0,\"line_width\":2,\"line_dash\":[4,4],\"fill_color\":\"lightgrey\",\"fill_alpha\":0.5}}}},{\"type\":\"object\",\"name\":\"ResetTool\",\"id\":\"89e9847b-458e-4ed9-8876-2d958cda00a0\"}],\"active_drag\":{\"id\":\"bb163707-b09d-45b8-b3b6-ea76f5a057f7\"},\"active_scroll\":{\"id\":\"e9fb8937-553e-40cf-8da3-6ba1445d6329\"}}},\"left\":[{\"type\":\"object\",\"name\":\"LinearAxis\",\"id\":\"8e7bc1bb-9061-414f-bfc6-5c06234df416\",\"attributes\":{\"ticker\":{\"type\":\"object\",\"name\":\"BasicTicker\",\"id\":\"fad7bf5b-3bb5-4d71-aefc-772d4ce6338f\",\"attributes\":{\"mantissas\":[1,2,5]}},\"formatter\":{\"type\":\"object\",\"name\":\"BasicTickFormatter\",\"id\":\"409b0cc6-0951-4274-a61e-0ddf49f8d110\"},\"axis_label\":\"\",\"major_label_policy\":{\"type\":\"object\",\"name\":\"AllLabels\",\"id\":\"f3625513-50f9-40fa-a78d-28f4d2c5b140\"}}}],\"right\":[{\"type\":\"object\",\"name\":\"Legend\",\"id\":\"5584ac7e-0aa3-48c4-8d54-f936deb127e3\",\"attributes\":{\"location\":[0,0],\"click_policy\":\"mute\",\"items\":[{\"type\":\"object\",\"name\":\"LegendItem\",\"id\":\"7470b991-d28b-47c2-9a7f-dc5bfde0b08b\",\"attributes\":{\"label\":{\"type\":\"value\",\"value\":\"mean_scale_score\"},\"renderers\":[{\"id\":\"c9399c3d-a418-4933-bb3f-6d8d9aa565ff\"},{\"id\":\"ba6a8d20-ab8a-419d-93ea-50a0f776435d\"}]}}]}}],\"below\":[{\"type\":\"object\",\"name\":\"LinearAxis\",\"id\":\"65671f3e-9cff-4ae0-9f59-5119325ce402\",\"attributes\":{\"ticker\":{\"type\":\"object\",\"name\":\"BasicTicker\",\"id\":\"5642366a-91ab-40de-824e-6cb7d29c8e84\",\"attributes\":{\"mantissas\":[1,2,5]}},\"formatter\":{\"type\":\"object\",\"name\":\"BasicTickFormatter\",\"id\":\"bd4fe608-f110-4c3e-848d-dae38bd4de06\"},\"axis_label\":\"Year\",\"major_label_policy\":{\"type\":\"object\",\"name\":\"AllLabels\",\"id\":\"3bbd6878-dd3d-49fa-8472-be70fd0dfd50\"}}}],\"center\":[{\"type\":\"object\",\"name\":\"Grid\",\"id\":\"c39d851c-5a9e-4852-9785-0faf8fc0e08c\",\"attributes\":{\"axis\":{\"id\":\"65671f3e-9cff-4ae0-9f59-5119325ce402\"},\"grid_line_color\":null}},{\"type\":\"object\",\"name\":\"Grid\",\"id\":\"8739277c-fc2e-4aa4-b50f-3a7a640fe855\",\"attributes\":{\"dimension\":1,\"axis\":{\"id\":\"8e7bc1bb-9061-414f-bfc6-5c06234df416\"},\"grid_line_color\":null}}],\"min_border_top\":10,\"min_border_bottom\":10,\"min_border_left\":10,\"min_border_right\":10,\"output_backend\":\"webgl\"}},{\"type\":\"object\",\"name\":\"Spacer\",\"id\":\"46cbb085-f3f3-4b0d-96fb-2d2055befcb4\",\"attributes\":{\"name\":\"HSpacer02692\",\"stylesheets\":[\"\\n:host(.pn-loading):before, .pn-loading:before {\\n  background-color: #c3c3c3;\\n  mask-size: auto calc(min(50%, 400px));\\n  -webkit-mask-size: auto calc(min(50%, 400px));\\n}\",{\"id\":\"19b8ce1d-a99e-444e-be0f-3d60757b1ff9\"},{\"id\":\"e2bf2983-b860-427f-96fe-f5547ac3c048\"},{\"id\":\"dd711301-64c2-42a0-acf4-699f7f1dc989\"}],\"margin\":0,\"sizing_mode\":\"stretch_width\",\"align\":\"start\"}}]}}],\"defs\":[{\"type\":\"model\",\"name\":\"ReactiveHTML1\"},{\"type\":\"model\",\"name\":\"FlexBox1\",\"properties\":[{\"name\":\"align_content\",\"kind\":\"Any\",\"default\":\"flex-start\"},{\"name\":\"align_items\",\"kind\":\"Any\",\"default\":\"flex-start\"},{\"name\":\"flex_direction\",\"kind\":\"Any\",\"default\":\"row\"},{\"name\":\"flex_wrap\",\"kind\":\"Any\",\"default\":\"wrap\"},{\"name\":\"gap\",\"kind\":\"Any\",\"default\":\"\"},{\"name\":\"justify_content\",\"kind\":\"Any\",\"default\":\"flex-start\"}]},{\"type\":\"model\",\"name\":\"FloatPanel1\",\"properties\":[{\"name\":\"config\",\"kind\":\"Any\",\"default\":{\"type\":\"map\"}},{\"name\":\"contained\",\"kind\":\"Any\",\"default\":true},{\"name\":\"position\",\"kind\":\"Any\",\"default\":\"right-top\"},{\"name\":\"offsetx\",\"kind\":\"Any\",\"default\":null},{\"name\":\"offsety\",\"kind\":\"Any\",\"default\":null},{\"name\":\"theme\",\"kind\":\"Any\",\"default\":\"primary\"},{\"name\":\"status\",\"kind\":\"Any\",\"default\":\"normalized\"}]},{\"type\":\"model\",\"name\":\"GridStack1\",\"properties\":[{\"name\":\"mode\",\"kind\":\"Any\",\"default\":\"warn\"},{\"name\":\"ncols\",\"kind\":\"Any\",\"default\":null},{\"name\":\"nrows\",\"kind\":\"Any\",\"default\":null},{\"name\":\"allow_resize\",\"kind\":\"Any\",\"default\":true},{\"name\":\"allow_drag\",\"kind\":\"Any\",\"default\":true},{\"name\":\"state\",\"kind\":\"Any\",\"default\":[]}]},{\"type\":\"model\",\"name\":\"drag1\",\"properties\":[{\"name\":\"slider_width\",\"kind\":\"Any\",\"default\":5},{\"name\":\"slider_color\",\"kind\":\"Any\",\"default\":\"black\"},{\"name\":\"value\",\"kind\":\"Any\",\"default\":50}]},{\"type\":\"model\",\"name\":\"click1\",\"properties\":[{\"name\":\"terminal_output\",\"kind\":\"Any\",\"default\":\"\"},{\"name\":\"debug_name\",\"kind\":\"Any\",\"default\":\"\"},{\"name\":\"clears\",\"kind\":\"Any\",\"default\":0}]},{\"type\":\"model\",\"name\":\"FastWrapper1\",\"properties\":[{\"name\":\"object\",\"kind\":\"Any\",\"default\":null},{\"name\":\"style\",\"kind\":\"Any\",\"default\":null}]},{\"type\":\"model\",\"name\":\"NotificationAreaBase1\",\"properties\":[{\"name\":\"js_events\",\"kind\":\"Any\",\"default\":{\"type\":\"map\"}},{\"name\":\"position\",\"kind\":\"Any\",\"default\":\"bottom-right\"},{\"name\":\"_clear\",\"kind\":\"Any\",\"default\":0}]},{\"type\":\"model\",\"name\":\"NotificationArea1\",\"properties\":[{\"name\":\"js_events\",\"kind\":\"Any\",\"default\":{\"type\":\"map\"}},{\"name\":\"notifications\",\"kind\":\"Any\",\"default\":[]},{\"name\":\"position\",\"kind\":\"Any\",\"default\":\"bottom-right\"},{\"name\":\"_clear\",\"kind\":\"Any\",\"default\":0},{\"name\":\"types\",\"kind\":\"Any\",\"default\":[{\"type\":\"map\",\"entries\":[[\"type\",\"warning\"],[\"background\",\"#ffc107\"],[\"icon\",{\"type\":\"map\",\"entries\":[[\"className\",\"fas fa-exclamation-triangle\"],[\"tagName\",\"i\"],[\"color\",\"white\"]]}]]},{\"type\":\"map\",\"entries\":[[\"type\",\"info\"],[\"background\",\"#007bff\"],[\"icon\",{\"type\":\"map\",\"entries\":[[\"className\",\"fas fa-info-circle\"],[\"tagName\",\"i\"],[\"color\",\"white\"]]}]]}]}]},{\"type\":\"model\",\"name\":\"Notification\",\"properties\":[{\"name\":\"background\",\"kind\":\"Any\",\"default\":null},{\"name\":\"duration\",\"kind\":\"Any\",\"default\":3000},{\"name\":\"icon\",\"kind\":\"Any\",\"default\":null},{\"name\":\"message\",\"kind\":\"Any\",\"default\":\"\"},{\"name\":\"notification_type\",\"kind\":\"Any\",\"default\":null},{\"name\":\"_destroyed\",\"kind\":\"Any\",\"default\":false}]},{\"type\":\"model\",\"name\":\"TemplateActions1\",\"properties\":[{\"name\":\"open_modal\",\"kind\":\"Any\",\"default\":0},{\"name\":\"close_modal\",\"kind\":\"Any\",\"default\":0}]},{\"type\":\"model\",\"name\":\"BootstrapTemplateActions1\",\"properties\":[{\"name\":\"open_modal\",\"kind\":\"Any\",\"default\":0},{\"name\":\"close_modal\",\"kind\":\"Any\",\"default\":0}]},{\"type\":\"model\",\"name\":\"TemplateEditor1\",\"properties\":[{\"name\":\"layout\",\"kind\":\"Any\",\"default\":[]}]},{\"type\":\"model\",\"name\":\"MaterialTemplateActions1\",\"properties\":[{\"name\":\"open_modal\",\"kind\":\"Any\",\"default\":0},{\"name\":\"close_modal\",\"kind\":\"Any\",\"default\":0}]},{\"type\":\"model\",\"name\":\"copy_to_clipboard1\",\"properties\":[{\"name\":\"fill\",\"kind\":\"Any\",\"default\":\"none\"},{\"name\":\"value\",\"kind\":\"Any\",\"default\":null}]}]}};\n",
       "  var render_items = [{\"docid\":\"1bc91929-518e-494c-9eff-d04d4409b2db\",\"roots\":{\"60147ed4-ce03-4cca-832e-0eb9d0c3b5d7\":\"d4ce1f99-4305-46da-8d62-ddc21ca1bdfc\"},\"root_ids\":[\"60147ed4-ce03-4cca-832e-0eb9d0c3b5d7\"]}];\n",
       "  var docs = Object.values(docs_json)\n",
       "  if (!docs) {\n",
       "    return\n",
       "  }\n",
       "  const py_version = docs[0].version.replace('rc', '-rc.').replace('.dev', '-dev.')\n",
       "  async function embed_document(root) {\n",
       "    var Bokeh = get_bokeh(root)\n",
       "    await Bokeh.embed.embed_items_notebook(docs_json, render_items);\n",
       "    for (const render_item of render_items) {\n",
       "      for (const root_id of render_item.root_ids) {\n",
       "\tconst id_el = document.getElementById(root_id)\n",
       "\tif (id_el.children.length && id_el.children[0].hasAttribute('data-root-id')) {\n",
       "\t  const root_el = id_el.children[0]\n",
       "\t  root_el.id = root_el.id + '-rendered'\n",
       "\t  for (const child of root_el.children) {\n",
       "            // Ensure JupyterLab does not capture keyboard shortcuts\n",
       "            // see: https://jupyterlab.readthedocs.io/en/4.1.x/extension/notebook.html#keyboard-interaction-model\n",
       "\t    child.setAttribute('data-lm-suppress-shortcuts', 'true')\n",
       "\t  }\n",
       "\t}\n",
       "      }\n",
       "    }\n",
       "  }\n",
       "  function get_bokeh(root) {\n",
       "    if (root.Bokeh === undefined) {\n",
       "      return null\n",
       "    } else if (root.Bokeh.version !== py_version) {\n",
       "      if (root.Bokeh.versions === undefined || !root.Bokeh.versions.has(py_version)) {\n",
       "\treturn null\n",
       "      }\n",
       "      return root.Bokeh.versions.get(py_version);\n",
       "    } else if (root.Bokeh.version === py_version) {\n",
       "      return root.Bokeh\n",
       "    }\n",
       "    return null\n",
       "  }\n",
       "  function is_loaded(root) {\n",
       "    var Bokeh = get_bokeh(root)\n",
       "    return (Bokeh != null && Bokeh.Panel !== undefined)\n",
       "  }\n",
       "  if (is_loaded(root)) {\n",
       "    embed_document(root);\n",
       "  } else {\n",
       "    var attempts = 0;\n",
       "    var timer = setInterval(function(root) {\n",
       "      if (is_loaded(root)) {\n",
       "        clearInterval(timer);\n",
       "        embed_document(root);\n",
       "      } else if (document.readyState == \"complete\") {\n",
       "        attempts++;\n",
       "        if (attempts > 200) {\n",
       "          clearInterval(timer);\n",
       "\t  var Bokeh = get_bokeh(root)\n",
       "\t  if (Bokeh == null || Bokeh.Panel == null) {\n",
       "            console.warn(\"Panel: ERROR: Unable to run Panel code because Bokeh or Panel library is missing\");\n",
       "\t  } else {\n",
       "\t    console.warn(\"Panel: WARNING: Attempting to render but not all required libraries could be resolved.\")\n",
       "\t    embed_document(root)\n",
       "\t  }\n",
       "        }\n",
       "      }\n",
       "    }, 25, root)\n",
       "  }\n",
       "})(window);</script>"
      ],
      "text/plain": [
       ":Overlay\n",
       "   .Scatter.Mean_scale_score :Scatter   [Year]   (mean_scale_score)\n",
       "   .Curve.Mean_scale_score   :Curve   [Year]   (mean_scale_score)"
      ]
     },
     "execution_count": 6,
     "metadata": {
      "application/vnd.holoviews_exec.v0+json": {
       "id": "60147ed4-ce03-4cca-832e-0eb9d0c3b5d7"
      }
     },
     "output_type": "execute_result"
    }
   ],
   "source": [
    "from modules.data_visualizations import plotting_sums\n",
    "plotting_sums(school_data)"
   ]
  },
  {
   "cell_type": "markdown",
   "metadata": {},
   "source": [
    "### **<span style='font-family:\"Times New Roman\"'> Motivation </span>**"
   ]
  },
  {
   "cell_type": "markdown",
   "metadata": {},
   "source": [
    "<span style='font-family:\"Times New Roman\"'> This research was inspired by my own experiences learning and working in low-income public schools. I went to school in Woodstown, New Jersey, in the center of one of the most segregated counties in New Jersey with a long-standing history of racism. I went to a high school with an immense white majority with an obvious disdain for non-white students from both peers and administration. I became most aware of the racial divide in Salem County when I began substitute teaching in Salem, NJ, a town ridden with poverty and the only majority black town in Salem County. This area has been neglected by the county for years, as the schools are incredibly under-funded, lacking essential resources to further education, such as technology and teachers. \n",
    "Racial education gaps have always been prevalent in the United States, however the COVID-19 pandemic has increased this divide and governments have abandoned school districts. \n",
    "  </span>"
   ]
  },
  {
   "cell_type": "markdown",
   "metadata": {},
   "source": [
    "### **<span style='font-family:\"Times New Roman\"'>Methods </span>**"
   ]
  },
  {
   "cell_type": "markdown",
   "metadata": {},
   "source": [
    "#### **<span style='font-family:\"Times New Roman\"'> Plots of Multivariate Data </span>**"
   ]
  },
  {
   "cell_type": "markdown",
   "metadata": {},
   "source": [
    "<span style='font-family:\"Times New Roman\"'> The first method I chose to utilize was the creation of plots using interactive widgets and color-coding. Such plots include color-coded bar charts and an interactive line chart. The interactive bar chart is the most essential in this dashboard, as the user can freely manipulate variables of interest. Interactive plots of multivariate data will allow the user to explore various trends through color-coding and widgets. All plots utilize colors to help decipher insights. This dashboard mostly focuses on the distribution of mean test scores and reading levels by grade to model general declines in education pre and post-pandemic </span> "
   ]
  },
  {
   "cell_type": "markdown",
   "metadata": {},
   "source": [
    "#### **<span style='font-family:\"Times New Roman\"'> Geographic Visualization: Choropleth Maps </span>**"
   ]
  },
  {
   "cell_type": "markdown",
   "metadata": {},
   "source": [
    "<span style='font-family:\"Times New Roman\"'>Geographic visualization techniques will be used to model the averages of students who fall in a Level 1 range per year. This is done with a GeoJSON of all New York City school district boundaries. Boundary coordinates are attached to each school district in a GeoDataFrame, which includes the mean percentage of each reading level (1-4) per district. These maps use a color scale legend corresponding to each districts' mean Level 1 percentage. This dashboard creates insights on sociodemographic mean distributions that have been affected by the COVID-19 pandemic. The maps give the reader geographical context of the question at hand. This allows for an accessible display of information that easily allows the reader to decipher trends in the data through recognized locations of New York City.\n",
    "</span>"
   ]
  },
  {
   "cell_type": "markdown",
   "metadata": {},
   "source": [
    "### **<span style='font-family:\"Times New Roman\"'>Main Results </span>**"
   ]
  },
  {
   "cell_type": "markdown",
   "metadata": {},
   "source": [
    "#### <span style='font-family:\"Times New Roman\"'> Dashboard: Visualization of Multivariate Data and Results </span>"
   ]
  },
  {
   "cell_type": "code",
   "execution_count": null,
   "metadata": {},
   "outputs": [],
   "source": [
    "from modules.interactive_dashboard import Dashboard\n",
    "import panel as pn  \n",
    "\n",
    "dashboard = Dashboard(data = school_data)\n",
    "\n",
    "dashboard.layout.show()"
   ]
  },
  {
   "cell_type": "markdown",
   "metadata": {},
   "source": [
    "#### <span style='font-family:\"Times New Roman\"'> Dashboard: Geographic Visualization and Results </span>"
   ]
  },
  {
   "cell_type": "code",
   "execution_count": null,
   "metadata": {},
   "outputs": [],
   "source": [
    "from modules.map_dashboard import MapDashboard\n",
    "\n",
    "geojson = 'school_districts.geojson'\n",
    "dashboard2 = MapDashboard(geojson, school_data)\n",
    "\n",
    "dashboard2.layout.show()"
   ]
  },
  {
   "cell_type": "markdown",
   "metadata": {},
   "source": [
    "### **<span style='font-family:\"Times New Roman\"'>Conclusion </span>**"
   ]
  },
  {
   "cell_type": "markdown",
   "metadata": {},
   "source": [
    "<span style='font-family:\"Times New Roman\"'> Overall, when comparing test scores from pre-COVID and post-COVID, it can be concluded that there is a rise in means from 2019 to 2022. However, 2022 averages do not exceed scores from 2018, showing that ELA comprehension has been on an incline since the year before the pandemic started. There were varying results when analyzing the trends amongst grades. The analysis discovered that primarily younger grades (third and fourth) have experienced ELA education loss. This is presumed to be due to formative years spent in lockdown, inhibiting behavioral and academic development. School district geographic analysis demonstrated the academic disparity in New York City. As predicted, as sociodemographic factors, such as race and income, display elevated mean percentages for students falling behind. </span>\n",
    "\n",
    "<span style='font-family:\"Times New Roman\"'> These analyses solidifies former research which inspects the effects of the COVID-19 pandemic and education loss. While the pandemic greatly impacted students of all socioeconomic backgrounds, these effects are largely seen in school districts who have already been neglected and lack resources to improve. This work is important in progressing policies to ensure equitable education. While there is still work to do in a post-pandemic world, recovery is possible.\n",
    " </span>"
   ]
  }
 ],
 "metadata": {
  "kernelspec": {
   "display_name": "Python 3",
   "language": "python",
   "name": "python3"
  },
  "language_info": {
   "codemirror_mode": {
    "name": "ipython",
    "version": 3
   },
   "file_extension": ".py",
   "mimetype": "text/x-python",
   "name": "python",
   "nbconvert_exporter": "python",
   "pygments_lexer": "ipython3",
   "version": "3.12.5"
  }
 },
 "nbformat": 4,
 "nbformat_minor": 2
}
